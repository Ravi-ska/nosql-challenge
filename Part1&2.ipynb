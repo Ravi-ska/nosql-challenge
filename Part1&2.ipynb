{
 "cells": [
  {
   "cell_type": "code",
   "execution_count": null,
   "id": "94f5b8f4",
   "metadata": {},
   "outputs": [],
   "source": [
    "from pymongo import MongoClient\n",
    "from pprint import pprint"
   ]
  },
  {
   "cell_type": "code",
   "execution_count": null,
   "id": "13ccc790",
   "metadata": {},
   "outputs": [],
   "source": [
    "mongo = MongoClient(port = 27017)"
   ]
  },
  {
   "cell_type": "code",
   "execution_count": null,
   "id": "dc97e245",
   "metadata": {},
   "outputs": [],
   "source": [
    "print(mongo.list_database_names())"
   ]
  },
  {
   "cell_type": "code",
   "execution_count": null,
   "id": "d29bb04e",
   "metadata": {},
   "outputs": [],
   "source": [
    "print(db.list_collection_names())"
   ]
  },
  {
   "cell_type": "code",
   "execution_count": null,
   "id": "f9ce442d",
   "metadata": {},
   "outputs": [],
   "source": [
    "pprint(db.establishments.find_one())"
   ]
  },
  {
   "cell_type": "code",
   "execution_count": null,
   "id": "86cb8a63",
   "metadata": {},
   "outputs": [],
   "source": [
    "establishments= db['establishments']"
   ]
  },
  {
   "cell_type": "code",
   "execution_count": null,
   "id": "c9041844",
   "metadata": {},
   "outputs": [],
   "source": [
    "new_restaurant = {\n",
    "    \"BusinessName\":\"Penang Flavours\",\n",
    "    \"BusinessType\":\"Restaurant/Cafe/Canteen\",\n",
    "    \"BusinessTypeID\":\"\",\n",
    "    \"AddressLine1\":\"Penang Flavours\",\n",
    "    \"AddressLine2\":\"146A Plumstead Rd\",\n",
    "    \"AddressLine3\":\"London\",\n",
    "    \"AddressLine4\":\"\",\n",
    "    \"PostCode\":\"SE18 7DY\",\n",
    "    \"Phone\":\"\",\n",
    "    \"LocalAuthorityCode\":\"511\",\n",
    "    \"LocalAuthorityName\":\"Greenwich\",\n",
    "    \"LocalAuthorityWebSite\":\"http://www.royalgreenwich.gov.uk\",\n",
    "    \"LocalAuthorityEmailAddress\":\"health@royalgreenwich.gov.uk\",\n",
    "    \"scores\":{\n",
    "        \"Hygiene\":\"\",\n",
    "        \"Structural\":\"\",\n",
    "        \"ConfidenceInManagement\":\"\"\n",
    "    },\n",
    "    \"SchemeType\":\"FHRS\",\n",
    "    \"geocode\":{\n",
    "        \"longitude\":\"0.08384000\",\n",
    "        \"latitude\":\"51.49014200\"\n",
    "    },\n",
    "    \"RightToReply\":\"\",\n",
    "    \"Distance\":4623.9723280747176,\n",
    "    \"NewRatingPending\":True\n",
    "}"
   ]
  },
  {
   "cell_type": "code",
   "execution_count": null,
   "id": "07cccff8",
   "metadata": {},
   "outputs": [],
   "source": [
    "establishments.insert_one(new_restaurant)"
   ]
  },
  {
   "cell_type": "code",
   "execution_count": null,
   "id": "41ca8cb7",
   "metadata": {},
   "outputs": [],
   "source": [
    "pprint(establishments.find_one({\"BusinessName\": \"Penang Flavours\"}))"
   ]
  },
  {
   "cell_type": "code",
   "execution_count": null,
   "id": "e8e8b0e3",
   "metadata": {},
   "outputs": [],
   "source": [
    "query = {\"BusinessType\":\"Restaurant/Cafe/Canteen\"}\n",
    "\n",
    "fields = {\n",
    "    \"BusinessTypeID\": 1,\n",
    "    \"BusinessType\":1\n",
    "}\n",
    "\n",
    "\n",
    "pprint(establishments.find_one(query,fields))"
   ]
  },
  {
   "cell_type": "code",
   "execution_count": null,
   "id": "47f8e730",
   "metadata": {},
   "outputs": [],
   "source": [
    "establishments.update_one(\n",
    "    {\"BusinessName\": \"Penang Flavours\"},\n",
    "    {\n",
    "        \"$set\":\n",
    "            {\"BusinessTypeID\":1}\n",
    "    }\n",
    ")"
   ]
  },
  {
   "cell_type": "code",
   "execution_count": null,
   "id": "37240baf",
   "metadata": {},
   "outputs": [],
   "source": [
    "pprint(establishments.find_one({\"BusinessName\": \"Penang Flavours\"}))"
   ]
  },
  {
   "cell_type": "code",
   "execution_count": null,
   "id": "1778e697",
   "metadata": {},
   "outputs": [],
   "source": [
    "doverDocs = establishments.count_documents({'LocalAuthorityName': 'Dover'})\n",
    "doverDocs"
   ]
  },
  {
   "cell_type": "code",
   "execution_count": null,
   "id": "eff44d83",
   "metadata": {},
   "outputs": [],
   "source": [
    "establishments.delete_many({'LocalAuthorityName': 'Dover'})"
   ]
  },
  {
   "cell_type": "code",
   "execution_count": null,
   "id": "be81ef02",
   "metadata": {},
   "outputs": [],
   "source": [
    "doverDocs = establishments.count_documents({'LocalAuthorityName': 'Dover'})\n",
    "doverDocs"
   ]
  },
  {
   "cell_type": "code",
   "execution_count": null,
   "id": "8644e139",
   "metadata": {},
   "outputs": [],
   "source": [
    "pprint(establishments.find_one())"
   ]
  },
  {
   "cell_type": "code",
   "execution_count": null,
   "id": "16ef109f",
   "metadata": {},
   "outputs": [],
   "source": [
    "establishments.update_many(\n",
    "    {},\n",
    "    [\n",
    "        {\n",
    "            '$set':\n",
    "            {\n",
    "                'geocode.latitude':{'$toDouble': '$geocode.latitude'},\n",
    "                'geocode.longitude': {'$toDouble': '$geocode.longitude'}\n",
    "            }\n",
    "        }\n",
    "    ]\n",
    ")"
   ]
  },
  {
   "cell_type": "code",
   "execution_count": null,
   "id": "c62d3638",
   "metadata": {},
   "outputs": [],
   "source": [
    "pprint(establishments.find_one())"
   ]
  }
 ],
 "metadata": {
  "kernelspec": {
   "display_name": "Python 3 (ipykernel)",
   "language": "python",
   "name": "python3"
  },
  "language_info": {
   "codemirror_mode": {
    "name": "ipython",
    "version": 3
   },
   "file_extension": ".py",
   "mimetype": "text/x-python",
   "name": "python",
   "nbconvert_exporter": "python",
   "pygments_lexer": "ipython3",
   "version": "3.10.9"
  }
 },
 "nbformat": 4,
 "nbformat_minor": 5
}
