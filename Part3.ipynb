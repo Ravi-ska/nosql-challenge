{
 "cells": [
  {
   "cell_type": "code",
   "execution_count": null,
   "id": "5807000c",
   "metadata": {},
   "outputs": [],
   "source": [
    "from pymongo import MongoClient\n",
    "from pprint import pprint\n",
    "import pandas as pd"
   ]
  },
  {
   "cell_type": "code",
   "execution_count": null,
   "id": "66c625f6",
   "metadata": {},
   "outputs": [],
   "source": [
    "mongo = MongoClient(port=27017)"
   ]
  },
  {
   "cell_type": "code",
   "execution_count": null,
   "id": "f305d97b",
   "metadata": {},
   "outputs": [],
   "source": [
    "db = mongo['uk_food']"
   ]
  },
  {
   "cell_type": "code",
   "execution_count": null,
   "id": "de3630e8",
   "metadata": {},
   "outputs": [],
   "source": [
    "print(db.list_collection_names())"
   ]
  },
  {
   "cell_type": "code",
   "execution_count": null,
   "id": "1b67e533",
   "metadata": {},
   "outputs": [],
   "source": [
    "establishments = db['establishments']"
   ]
  },
  {
   "cell_type": "code",
   "execution_count": null,
   "id": "e39d2bbe",
   "metadata": {},
   "outputs": [],
   "source": [
    "query = {'scores.Hygiene': 20}\n",
    "\n",
    "print(f\" Number of documents in result: {establishments.count_documents(query)}\")\n",
    "\n",
    "results = establishments.find(query)\n",
    "\n",
    "print('\\n First Result:')\n",
    "pprint(results[0])"
   ]
  },
  {
   "cell_type": "code",
   "execution_count": null,
   "id": "e3331dc7",
   "metadata": {},
   "outputs": [],
   "source": [
    "query = {'scores.Hygiene': 20}\n",
    "results = establishments.find(query)\n",
    "\n",
    "hygiene20DF = pd.DataFrame(results) \n",
    "\n",
    "print(f\"Rows in DataFrame: {len(hygiene20DF)}\")\n",
    "\n",
    "hygiene20DF.head(10)"
   ]
  },
  {
   "cell_type": "code",
   "execution_count": null,
   "id": "ef5c146a",
   "metadata": {},
   "outputs": [],
   "source": [
    "query = {'LocalAuthorityName': {'$regex': 'London'}, 'RatingValue': {'$gte': '4' }}\n",
    "\n",
    "print(f\" Number of documents in result: {establishments.count_documents(query)}\")\n",
    "\n",
    "results = establishments.find(query)\n",
    "\n",
    "print('\\n First Result:')\n",
    "pprint(results[0])"
   ]
  },
  {
   "cell_type": "code",
   "execution_count": null,
   "id": "a9e4912e",
   "metadata": {},
   "outputs": [],
   "source": [
    "query = {'LocalAuthorityName': {'$regex': 'London'}, 'RatingValue': {'$gte': '4' }}\n",
    "results = establishments.find(query)\n",
    "londonHighRatingsDF = pd.DataFrame(results)\n",
    "\n",
    "print(f\"Rows in DataFrame: {len(londonHighRatingsDF)}\")\n",
    "\n",
    "londonHighRatingsDF.head(10)"
   ]
  },
  {
   "cell_type": "code",
   "execution_count": null,
   "id": "574a7aca",
   "metadata": {},
   "outputs": [],
   "source": [
    "degree_search = 0.01\n",
    "latitude = 51.49014200\n",
    "longitude = 0.08384000\n",
    "\n",
    "query = {\n",
    "    'RatingValue': '5',\n",
    "    'geocode.latitude':{\n",
    "        '$gte': latitude-degree_search,\n",
    "        '$lte': latitude+degree_search\n",
    "    },\n",
    "    'geocode.longitude': {\n",
    "        '$gte': longitude-degree_search,\n",
    "        '$lte': longitude+degree_search\n",
    "    }\n",
    "}\n",
    "sort = [('score.Hygiene',1)] \n",
    "limit = 5\n",
    "\n",
    "pprint(list(establishments.find(query).sort(sort). limit(limit)))"
   ]
  },
  {
   "cell_type": "code",
   "execution_count": null,
   "id": "2daa8c39",
   "metadata": {},
   "outputs": [],
   "source": [
    "results = establishments.find(query).sort(sort). limit(limit)\n",
    "restaurantNearPenangDF = pd.DataFrame(results)\n",
    "restaurantNearPenangDF"
   ]
  },
  {
   "cell_type": "code",
   "execution_count": null,
   "id": "60786864",
   "metadata": {},
   "outputs": [],
   "source": [
    "pipeline = [\n",
    "    {'$match': {'scores.Hygiene':0}},\n",
    "    {\n",
    "        '$group':\n",
    "        {\n",
    "            '_id': '$LocalAuthorityName', 'count': {'$sum': 1}\n",
    "        }\n",
    "    },\n",
    "    {'$sort': {'count': -1}}\n",
    "] \n",
    "\n",
    "results = list(establishments.aggregate(pipeline))\n",
    "\n",
    "print(f\" Number of documents in result: {len(results)}\")\n",
    "\n",
    "pprint(results[0:10])"
   ]
  },
  {
   "cell_type": "code",
   "execution_count": null,
   "id": "9dbd211f",
   "metadata": {},
   "outputs": [],
   "source": [
    "resultsDF = pd.DataFrame(results)\n",
    "\n",
    "print(f\"Number of rows in DataFrame {len(resultsDF)}\")\n",
    "\n",
    "resultsDF = resultsDF.rename(columns= {'_id': \"Local Authority\"})\n",
    "\n",
    "resultsDF.head(10)"
   ]
  }
 ],
 "metadata": {
  "kernelspec": {
   "display_name": "Python 3 (ipykernel)",
   "language": "python",
   "name": "python3"
  },
  "language_info": {
   "codemirror_mode": {
    "name": "ipython",
    "version": 3
   },
   "file_extension": ".py",
   "mimetype": "text/x-python",
   "name": "python",
   "nbconvert_exporter": "python",
   "pygments_lexer": "ipython3",
   "version": "3.10.9"
  }
 },
 "nbformat": 4,
 "nbformat_minor": 5
}
